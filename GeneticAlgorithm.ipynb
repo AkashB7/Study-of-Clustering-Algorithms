{
  "cells": [
    {
      "cell_type": "markdown",
      "metadata": {
        "id": "view-in-github",
        "colab_type": "text"
      },
      "source": [
        "<a href=\"https://colab.research.google.com/github/AkashB7/Study-of-Clustering-Algorithms/blob/main/GeneticAlgorithm.ipynb\" target=\"_parent\"><img src=\"https://colab.research.google.com/assets/colab-badge.svg\" alt=\"Open In Colab\"/></a>"
      ]
    },
    {
      "cell_type": "code",
      "source": [
        "import random\n",
        "\n",
        "def initialize_population(n_students, n_clusters):\n",
        "    population = [[random.randint(0, n_clusters-1) for _ in range(n_students)] for _ in range(100)]\n",
        "    return population\n",
        "\n",
        "def calculate_fitness(population, marks):\n",
        "    fitness_values = []\n",
        "    for individual in population:\n",
        "        cluster_marks = [[] for _ in range(len(set(individual)))]\n",
        "        for student, cluster in enumerate(individual):\n",
        "            cluster_marks[cluster].append(marks[student])\n",
        "        diversity = sum([len(set(cluster))/len(cluster) for cluster in cluster_marks])\n",
        "        fitness_values.append(diversity)\n",
        "    return fitness_values\n",
        "\n",
        "def genetic_algorithm(population, marks, n_generations):\n",
        "    for generation in range(n_generations):\n",
        "        fitness_values = calculate_fitness(population, marks)\n",
        "\n",
        "        parents = [population[i] for i in range(len(population)) if fitness_values[i] > random.uniform(0, max(fitness_values))]\n",
        "\n",
        "        population = []\n",
        "        while len(population) < len(parents):\n",
        "            parent1, parent2 = random.sample(parents, 2)\n",
        "            child = []\n",
        "            for i in range(len(parent1)):\n",
        "                if random.uniform(0, 1) < 0.9:\n",
        "                    child.append(parent1[i])\n",
        "                else:\n",
        "                    child.append(parent2[i])\n",
        "            if random.uniform(0, 1) < 0.05:\n",
        "                child[random.randint(0, len(child)-1)] = random.randint(0, n_clusters-1)\n",
        "            population.append(child)\n",
        "    return population, calculate_fitness(population, marks)\n",
        "\n",
        "marks = [random.randint(0, 100) for _ in range(100)]\n",
        "n_clusters = 5\n",
        "population, fitness_values = genetic_algorithm(initialize_population(len(marks), n_clusters), marks, 100)\n",
        "best_individual = population[fitness_values.index(max(fitness_values))]\n",
        "\n",
        "print(\"Objective Function Value:\", max(fitness_values))"
      ],
      "metadata": {
        "colab": {
          "base_uri": "https://localhost:8080/"
        },
        "id": "k49LdBlPr1TH",
        "outputId": "94de7673-24f6-4241-933d-a6728184d5b6"
      },
      "execution_count": null,
      "outputs": [
        {
          "output_type": "stream",
          "name": "stdout",
          "text": [
            "Objective Function Value: 4.71539641943734\n"
          ]
        }
      ]
    }
  ],
  "metadata": {
    "colab": {
      "provenance": [],
      "include_colab_link": true
    },
    "kernelspec": {
      "display_name": "Python 3",
      "name": "python3"
    },
    "language_info": {
      "name": "python"
    }
  },
  "nbformat": 4,
  "nbformat_minor": 0
}