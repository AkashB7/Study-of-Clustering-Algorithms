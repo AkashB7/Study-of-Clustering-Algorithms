{
  "nbformat": 4,
  "nbformat_minor": 0,
  "metadata": {
    "colab": {
      "provenance": [],
      "include_colab_link": true
    },
    "kernelspec": {
      "name": "python3",
      "display_name": "Python 3"
    },
    "language_info": {
      "name": "python"
    }
  },
  "cells": [
    {
      "cell_type": "markdown",
      "metadata": {
        "id": "view-in-github",
        "colab_type": "text"
      },
      "source": [
        "<a href=\"https://colab.research.google.com/github/AkashB7/Study-of-Clustering-Algorithms/blob/main/PSOAlgorithm.ipynb\" target=\"_parent\"><img src=\"https://colab.research.google.com/assets/colab-badge.svg\" alt=\"Open In Colab\"/></a>"
      ]
    },
    {
      "cell_type": "code",
      "source": [
        "import numpy as np\n",
        "\n",
        "num_students = 100\n",
        "num_clusters = 4\n",
        "\n",
        "student_marks = np.random.randint(0, 100, (num_students, 1))\n",
        "cluster_centroids = np.random.randint(0, 100, (num_clusters, 1))\n",
        "\n",
        "particle_positions = np.random.randint(0, 100, (num_students, num_clusters))\n",
        "particle_velocities = np.random.randint(-10, 10, (num_students, num_clusters))\n",
        "\n",
        "max_iterations = 100\n",
        "cognitive_param = 0.8\n",
        "social_param = 0.3\n",
        "\n",
        "global_best = np.zeros((num_students, num_clusters))\n",
        "personal_best = np.copy(particle_positions)\n",
        "\n",
        "obj_val = 0\n",
        "\n",
        "for i in range(max_iterations):\n",
        "    student_clusters = np.argmax(particle_positions, axis=1)\n",
        "\n",
        "    for j in range(num_clusters):\n",
        "        cluster_centroids[j] = np.mean(student_marks[student_clusters == j])\n",
        "\n",
        "    for j in range(num_students):\n",
        "        for k in range(num_clusters):\n",
        "            r1 = np.random.rand()\n",
        "            r2 = np.random.rand()\n",
        "            particle_velocities[j][k] = cognitive_param * r1 * (personal_best[j][k] - particle_positions[j][k]) + social_param * r2 * (global_best[j][k] - particle_positions[j][k])\n",
        "            particle_positions[j][k] += particle_velocities[j][k]\n",
        "\n",
        "    for j in range(num_students):\n",
        "        for k in range(num_clusters):\n",
        "            if particle_positions[j][k] > personal_best[j][k]:\n",
        "                personal_best[j][k] = particle_positions[j][k]\n",
        "            if personal_best[j][k] > global_best[j][k]:\n",
        "                global_best[j][k] = personal_best[j][k]\n",
        "\n",
        "    obj_val = 0\n",
        "    for j in range(num_students):\n",
        "        obj_val += np.linalg.norm(student_marks[j] - cluster_centroids[student_clusters[j]])\n",
        "\n",
        "print(\"Final objective function value: \", obj_val)"
      ],
      "metadata": {
        "colab": {
          "base_uri": "https://localhost:8080/"
        },
        "id": "TNo7u54i9XBZ",
        "outputId": "63d9d9a5-8136-4e19-f7cd-be81978e0123"
      },
      "execution_count": null,
      "outputs": [
        {
          "output_type": "stream",
          "name": "stdout",
          "text": [
            "Final objective function value:  2249.0\n"
          ]
        }
      ]
    }
  ]
}