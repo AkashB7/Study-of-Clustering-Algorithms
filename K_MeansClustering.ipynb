{
  "nbformat": 4,
  "nbformat_minor": 0,
  "metadata": {
    "colab": {
      "provenance": [],
      "include_colab_link": true
    },
    "kernelspec": {
      "name": "python3",
      "display_name": "Python 3"
    },
    "language_info": {
      "name": "python"
    }
  },
  "cells": [
    {
      "cell_type": "markdown",
      "metadata": {
        "id": "view-in-github",
        "colab_type": "text"
      },
      "source": [
        "<a href=\"https://colab.research.google.com/github/AkashB7/Study-of-Clustering-Algorithms/blob/main/K_MeansClustering.ipynb\" target=\"_parent\"><img src=\"https://colab.research.google.com/assets/colab-badge.svg\" alt=\"Open In Colab\"/></a>"
      ]
    },
    {
      "cell_type": "code",
      "source": [
        "from sklearn.cluster import KMeans\n",
        "import numpy as np\n",
        "\n",
        "marks = np.random.randint(low=0, high=100, size=(100, 1))\n",
        "\n",
        "kmeans = KMeans(n_clusters=3, random_state=0).fit(marks)\n",
        "\n",
        "labels = kmeans.labels_\n",
        "\n",
        "cluster_centers = kmeans.cluster_centers_\n",
        "\n",
        "inertia = kmeans.inertia_\n",
        "\n",
        "print(\"Cluster Labels: \", labels)\n",
        "print(\"Cluster Centers: \", cluster_centers)\n",
        "print(\"Objective Function Value (Inertia): \", inertia)"
      ],
      "metadata": {
        "colab": {
          "base_uri": "https://localhost:8080/"
        },
        "id": "JicC3nckt7Qa",
        "outputId": "8d8fa532-f039-446c-a96a-efe4dc444ae2"
      },
      "execution_count": null,
      "outputs": [
        {
          "output_type": "stream",
          "name": "stdout",
          "text": [
            "Cluster Labels:  [0 0 1 0 0 1 1 1 1 0 1 2 2 2 0 0 1 0 0 0 2 1 0 2 0 1 2 0 0 1 0 1 2 0 1 2 0\n",
            " 0 1 2 2 2 1 0 2 0 1 1 2 0 1 0 1 2 0 0 0 0 0 0 2 1 0 2 2 1 0 1 0 1 0 1 0 1\n",
            " 2 0 1 1 2 2 0 1 2 2 2 1 0 0 2 0 0 1 1 1 2 0 2 1 0 1]\n",
            "Cluster Centers:  [[82.65853659]\n",
            " [51.        ]\n",
            " [16.26923077]]\n",
            "Objective Function Value (Inertia):  8692.334896810507\n"
          ]
        }
      ]
    }
  ]
}